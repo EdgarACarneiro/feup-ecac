{
 "cells": [
  {
   "cell_type": "code",
   "execution_count": 8,
   "metadata": {},
   "outputs": [],
   "source": [
    "# necessary libraries for pre-processing\n",
    "import utils\n",
    "import pandas as pd\n",
    "import numpy as np\n",
    "import os"
   ]
  },
  {
   "cell_type": "markdown",
   "metadata": {},
   "source": [
    "# Useful functions for preprocessing"
   ]
  },
  {
   "cell_type": "markdown",
   "metadata": {},
   "source": [
    "## Imputation"
   ]
  },
  {
   "cell_type": "code",
   "execution_count": 18,
   "metadata": {},
   "outputs": [],
   "source": [
    "def get_null_summary(dataset):\n",
    "    '''Get a null summary display'''\n",
    "    display(dataset.isnull().mean())"
   ]
  },
  {
   "cell_type": "code",
   "execution_count": 9,
   "metadata": {},
   "outputs": [],
   "source": [
    "def clean_nulls(dataset, threshold=0.7):\n",
    "    '''Clean nulls from the given table.\n",
    "    If the nulls in a column are higher than the given threshold the entire column is deleted.\n",
    "    If the nulls in a row are higher than the row, the row is also deleted.\n",
    "    The threshold is a value between 0 and 1'''\n",
    "    #Dropping columns with missing value rate higher than threshold\n",
    "    dataset = dataset[dataset.columns[dataset.isnull().mean() < threshold]]\n",
    "\n",
    "    #Dropping rows with missing value rate higher than threshold\n",
    "    dataset = dataset.loc[dataset.isnull().mean(axis=1) < threshold]\n",
    "    \n",
    "    return dataset"
   ]
  },
  {
   "cell_type": "code",
   "execution_count": 10,
   "metadata": {},
   "outputs": [],
   "source": [
    "def numerical_imputation(dataset, replacer=None):\n",
    "    '''When null values exist, set them using the median of the colum,\n",
    "    or a replacer, if one was given'''\n",
    "    dataset = dataset.fillna(replacer if replacer else dataset.median())\n",
    "\n",
    "    return dataset"
   ]
  },
  {
   "cell_type": "code",
   "execution_count": 11,
   "metadata": {},
   "outputs": [],
   "source": [
    "def categorical_imputation(dataset, column_name, replacer=None):\n",
    "    '''Replace the inexistent values of the given column with the given replacer.\n",
    "    If None replacer was ginve, use the column maximum value'''\n",
    "    #Max fill function for categorical columns\n",
    "    dataset[column_name].fillna(replacer if replacer else \\\n",
    "                                dataset[column_name].value_counts()\n",
    "                                                    .idxmax(),\n",
    "                                inplace=True)\n",
    "    \n",
    "    return dataset"
   ]
  },
  {
   "cell_type": "markdown",
   "metadata": {},
   "source": [
    "## Handling Outliers"
   ]
  },
  {
   "cell_type": "code",
   "execution_count": 31,
   "metadata": {},
   "outputs": [],
   "source": [
    "def display_to_drop_std(dataset, column, mult_factor=3):\n",
    "    '''Display the rows that will be dropped using the std approach'''\n",
    "    upper_lim = dataset[column].mean() + dataset[column].std() * mult_factor\n",
    "    lower_lim = dataset[column].mean() - dataset[column].std() * mult_factor\n",
    "\n",
    "    display(dataset[(dataset[column] >= upper_lim) & (dataset[column] <= lower_lim)])\n",
    "\n",
    "def drop_outliers_std(dataset, column, mult_factor=3):\n",
    "    '''Drop the outlier rows with standard deviation'''\n",
    "    upper_lim = dataset[column].mean() + dataset[column].std() * mult_factor\n",
    "    lower_lim = dataset[column].mean() - dataset[column].std() * mult_factor\n",
    "\n",
    "    return dataset[(dataset[column] < upper_lim) & (dataset[column] > lower_lim)]"
   ]
  },
  {
   "cell_type": "code",
   "execution_count": 36,
   "metadata": {},
   "outputs": [],
   "source": [
    "def display_to_drop_percentile(dataset, column):\n",
    "    '''Display the rows that will be dropped with Percentiles approach'''\n",
    "    upper_lim = dataset[column].quantile(.95)\n",
    "    lower_lim = dataset[column].quantile(.05)\n",
    "\n",
    "    display(dataset[(dataset[column] >= upper_lim) & (dataset[column] <= lower_lim)])\n",
    "\n",
    "def drop_outliers_percentile(dataset, column):\n",
    "    '''Drop the outlier rows with Percentiles approach'''\n",
    "    upper_lim = dataset[column].quantile(.95)\n",
    "    lower_lim = dataset[column].quantile(.05)\n",
    "\n",
    "    data = dataset[(dataset[column] < upper_lim) & (dataset[column] > lower_lim)]"
   ]
  },
  {
   "cell_type": "code",
   "execution_count": null,
   "metadata": {},
   "outputs": [],
   "source": []
  },
  {
   "cell_type": "markdown",
   "metadata": {},
   "source": [
    "# Predictions\n",
    "\n",
    "### For a first simpler approach, we will only use the 'loan' table"
   ]
  },
  {
   "cell_type": "code",
   "execution_count": 12,
   "metadata": {},
   "outputs": [],
   "source": [
    "# Reading the loan train\n",
    "loan_df = utils.read_csv_to_df('competition_dataset/loan_train.csv', delimiter=';')"
   ]
  },
  {
   "cell_type": "code",
   "execution_count": 38,
   "metadata": {},
   "outputs": [
    {
     "data": {
      "text/html": [
       "<div>\n",
       "<style scoped>\n",
       "    .dataframe tbody tr th:only-of-type {\n",
       "        vertical-align: middle;\n",
       "    }\n",
       "\n",
       "    .dataframe tbody tr th {\n",
       "        vertical-align: top;\n",
       "    }\n",
       "\n",
       "    .dataframe thead th {\n",
       "        text-align: right;\n",
       "    }\n",
       "</style>\n",
       "<table border=\"1\" class=\"dataframe\">\n",
       "  <thead>\n",
       "    <tr style=\"text-align: right;\">\n",
       "      <th></th>\n",
       "      <th>loan_id</th>\n",
       "      <th>account_id</th>\n",
       "      <th>date</th>\n",
       "      <th>amount</th>\n",
       "      <th>duration</th>\n",
       "      <th>payments</th>\n",
       "      <th>status</th>\n",
       "    </tr>\n",
       "  </thead>\n",
       "  <tbody>\n",
       "    <tr>\n",
       "      <td>0</td>\n",
       "      <td>5314</td>\n",
       "      <td>1787</td>\n",
       "      <td>930705</td>\n",
       "      <td>96396</td>\n",
       "      <td>12</td>\n",
       "      <td>8033</td>\n",
       "      <td>-1</td>\n",
       "    </tr>\n",
       "    <tr>\n",
       "      <td>1</td>\n",
       "      <td>5316</td>\n",
       "      <td>1801</td>\n",
       "      <td>930711</td>\n",
       "      <td>165960</td>\n",
       "      <td>36</td>\n",
       "      <td>4610</td>\n",
       "      <td>1</td>\n",
       "    </tr>\n",
       "    <tr>\n",
       "      <td>2</td>\n",
       "      <td>6863</td>\n",
       "      <td>9188</td>\n",
       "      <td>930728</td>\n",
       "      <td>127080</td>\n",
       "      <td>60</td>\n",
       "      <td>2118</td>\n",
       "      <td>1</td>\n",
       "    </tr>\n",
       "    <tr>\n",
       "      <td>3</td>\n",
       "      <td>5325</td>\n",
       "      <td>1843</td>\n",
       "      <td>930803</td>\n",
       "      <td>105804</td>\n",
       "      <td>36</td>\n",
       "      <td>2939</td>\n",
       "      <td>1</td>\n",
       "    </tr>\n",
       "    <tr>\n",
       "      <td>4</td>\n",
       "      <td>7240</td>\n",
       "      <td>11013</td>\n",
       "      <td>930906</td>\n",
       "      <td>274740</td>\n",
       "      <td>60</td>\n",
       "      <td>4579</td>\n",
       "      <td>1</td>\n",
       "    </tr>\n",
       "    <tr>\n",
       "      <td>...</td>\n",
       "      <td>...</td>\n",
       "      <td>...</td>\n",
       "      <td>...</td>\n",
       "      <td>...</td>\n",
       "      <td>...</td>\n",
       "      <td>...</td>\n",
       "      <td>...</td>\n",
       "    </tr>\n",
       "    <tr>\n",
       "      <td>323</td>\n",
       "      <td>6818</td>\n",
       "      <td>9030</td>\n",
       "      <td>961212</td>\n",
       "      <td>155616</td>\n",
       "      <td>48</td>\n",
       "      <td>3242</td>\n",
       "      <td>1</td>\n",
       "    </tr>\n",
       "    <tr>\n",
       "      <td>324</td>\n",
       "      <td>5625</td>\n",
       "      <td>3189</td>\n",
       "      <td>961215</td>\n",
       "      <td>222180</td>\n",
       "      <td>60</td>\n",
       "      <td>3703</td>\n",
       "      <td>-1</td>\n",
       "    </tr>\n",
       "    <tr>\n",
       "      <td>325</td>\n",
       "      <td>6805</td>\n",
       "      <td>8972</td>\n",
       "      <td>961221</td>\n",
       "      <td>45024</td>\n",
       "      <td>48</td>\n",
       "      <td>938</td>\n",
       "      <td>1</td>\n",
       "    </tr>\n",
       "    <tr>\n",
       "      <td>326</td>\n",
       "      <td>7233</td>\n",
       "      <td>10963</td>\n",
       "      <td>961225</td>\n",
       "      <td>115812</td>\n",
       "      <td>36</td>\n",
       "      <td>3217</td>\n",
       "      <td>1</td>\n",
       "    </tr>\n",
       "    <tr>\n",
       "      <td>327</td>\n",
       "      <td>7308</td>\n",
       "      <td>11362</td>\n",
       "      <td>961227</td>\n",
       "      <td>129408</td>\n",
       "      <td>24</td>\n",
       "      <td>5392</td>\n",
       "      <td>1</td>\n",
       "    </tr>\n",
       "  </tbody>\n",
       "</table>\n",
       "<p>328 rows × 7 columns</p>\n",
       "</div>"
      ],
      "text/plain": [
       "     loan_id  account_id    date  amount  duration  payments  status\n",
       "0       5314        1787  930705   96396        12      8033      -1\n",
       "1       5316        1801  930711  165960        36      4610       1\n",
       "2       6863        9188  930728  127080        60      2118       1\n",
       "3       5325        1843  930803  105804        36      2939       1\n",
       "4       7240       11013  930906  274740        60      4579       1\n",
       "..       ...         ...     ...     ...       ...       ...     ...\n",
       "323     6818        9030  961212  155616        48      3242       1\n",
       "324     5625        3189  961215  222180        60      3703      -1\n",
       "325     6805        8972  961221   45024        48       938       1\n",
       "326     7233       10963  961225  115812        36      3217       1\n",
       "327     7308       11362  961227  129408        24      5392       1\n",
       "\n",
       "[328 rows x 7 columns]"
      ]
     },
     "metadata": {},
     "output_type": "display_data"
    },
    {
     "data": {
      "text/plain": [
       "loan_id       0.0\n",
       "account_id    0.0\n",
       "date          0.0\n",
       "amount        0.0\n",
       "duration      0.0\n",
       "payments      0.0\n",
       "status        0.0\n",
       "dtype: float64"
      ]
     },
     "metadata": {},
     "output_type": "display_data"
    },
    {
     "data": {
      "text/html": [
       "<div>\n",
       "<style scoped>\n",
       "    .dataframe tbody tr th:only-of-type {\n",
       "        vertical-align: middle;\n",
       "    }\n",
       "\n",
       "    .dataframe tbody tr th {\n",
       "        vertical-align: top;\n",
       "    }\n",
       "\n",
       "    .dataframe thead th {\n",
       "        text-align: right;\n",
       "    }\n",
       "</style>\n",
       "<table border=\"1\" class=\"dataframe\">\n",
       "  <thead>\n",
       "    <tr style=\"text-align: right;\">\n",
       "      <th></th>\n",
       "      <th>loan_id</th>\n",
       "      <th>account_id</th>\n",
       "      <th>date</th>\n",
       "      <th>amount</th>\n",
       "      <th>duration</th>\n",
       "      <th>payments</th>\n",
       "      <th>status</th>\n",
       "    </tr>\n",
       "  </thead>\n",
       "  <tbody>\n",
       "  </tbody>\n",
       "</table>\n",
       "</div>"
      ],
      "text/plain": [
       "Empty DataFrame\n",
       "Columns: [loan_id, account_id, date, amount, duration, payments, status]\n",
       "Index: []"
      ]
     },
     "metadata": {},
     "output_type": "display_data"
    },
    {
     "data": {
      "text/html": [
       "<div>\n",
       "<style scoped>\n",
       "    .dataframe tbody tr th:only-of-type {\n",
       "        vertical-align: middle;\n",
       "    }\n",
       "\n",
       "    .dataframe tbody tr th {\n",
       "        vertical-align: top;\n",
       "    }\n",
       "\n",
       "    .dataframe thead th {\n",
       "        text-align: right;\n",
       "    }\n",
       "</style>\n",
       "<table border=\"1\" class=\"dataframe\">\n",
       "  <thead>\n",
       "    <tr style=\"text-align: right;\">\n",
       "      <th></th>\n",
       "      <th>loan_id</th>\n",
       "      <th>account_id</th>\n",
       "      <th>date</th>\n",
       "      <th>amount</th>\n",
       "      <th>duration</th>\n",
       "      <th>payments</th>\n",
       "      <th>status</th>\n",
       "    </tr>\n",
       "  </thead>\n",
       "  <tbody>\n",
       "  </tbody>\n",
       "</table>\n",
       "</div>"
      ],
      "text/plain": [
       "Empty DataFrame\n",
       "Columns: [loan_id, account_id, date, amount, duration, payments, status]\n",
       "Index: []"
      ]
     },
     "metadata": {},
     "output_type": "display_data"
    }
   ],
   "source": [
    "# We should start 'cleansing' the data here\n",
    "display(loan_df)\n",
    "get_null_summary(loan_df)\n",
    "display_to_drop_std(loan_df, 'duration')\n",
    "display_to_drop_std(loan_df, 'amount')"
   ]
  },
  {
   "cell_type": "code",
   "execution_count": 14,
   "metadata": {},
   "outputs": [],
   "source": [
    "# Good tutorial for feature engineering:\n",
    "# https://medium.com/datadriveninvestor/a-simple-guide-to-creating-predictive-models-in-python-part-1-8e3ddc3d7008"
   ]
  },
  {
   "cell_type": "code",
   "execution_count": 15,
   "metadata": {},
   "outputs": [],
   "source": [
    "# Outputting the resultant table to a final csv\n",
    "utils.write_df_to_csv(loan_df, 'dataset', 'preprocessed_data.csv')"
   ]
  },
  {
   "cell_type": "code",
   "execution_count": null,
   "metadata": {},
   "outputs": [],
   "source": []
  }
 ],
 "metadata": {
  "kernelspec": {
   "display_name": "Python 3",
   "language": "python",
   "name": "python3"
  },
  "language_info": {
   "codemirror_mode": {
    "name": "ipython",
    "version": 3
   },
   "file_extension": ".py",
   "mimetype": "text/x-python",
   "name": "python",
   "nbconvert_exporter": "python",
   "pygments_lexer": "ipython3",
   "version": "3.7.2"
  }
 },
 "nbformat": 4,
 "nbformat_minor": 2
}
